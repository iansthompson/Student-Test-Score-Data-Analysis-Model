{
 "cells": [
  {
   "cell_type": "markdown",
   "id": "24892331",
   "metadata": {},
   "source": [
    "Library to manage csv files and created multivariate linear regression model "
   ]
  },
  {
   "cell_type": "code",
   "execution_count": 1,
   "id": "dd6a2fd7",
   "metadata": {},
   "outputs": [],
   "source": [
    "import pandas as pd \n",
    "from sklearn import linear_model"
   ]
  },
  {
   "cell_type": "code",
   "execution_count": 2,
   "id": "6c562441",
   "metadata": {},
   "outputs": [],
   "source": [
    "df_math = pd.read_csv(\".../Math Linear Regression.csv\")\n",
    "df_writing = pd.read_csv(\".../Writing Linear Regression.csv\")\n",
    "df_reading = pd.read_csv(\".../Reading Linear Regression.csv\")\n"
   ]
  },
  {
   "cell_type": "markdown",
   "id": "3c3165bb",
   "metadata": {},
   "source": [
    "Manipulating dataframes to properly with ski-kit library."
   ]
  },
  {
   "cell_type": "code",
   "execution_count": null,
   "id": "c7ea2ee4",
   "metadata": {},
   "outputs": [],
   "source": [
    "df_math = df_math[1:]\n",
    "df_writing = df_writing[1:]\n",
    "df_reading = df_reading[1:]"
   ]
  },
  {
   "cell_type": "code",
   "execution_count": 4,
   "id": "568e74ab",
   "metadata": {},
   "outputs": [],
   "source": [
    "y_math = df_math.iloc[:, 0:1]\n",
    "x_math = df_math.iloc[:, 1:]\n",
    "\n",
    "y_writing = df_writing.iloc[:, 0:1]\n",
    "x_writing = df_writing.iloc[:, 1:]\n",
    "\n",
    "y_reading = df_reading.iloc[:, 0:1]\n",
    "x_reading = df_reading.iloc[:, 1:]"
   ]
  },
  {
   "cell_type": "markdown",
   "id": "74d0850d",
   "metadata": {},
   "source": [
    "Fitting x and y variables for each subject to linear regression model."
   ]
  },
  {
   "cell_type": "code",
   "execution_count": 6,
   "id": "93a9e45a",
   "metadata": {},
   "outputs": [
    {
     "name": "stdout",
     "output_type": "stream",
     "text": [
      "math coefficients and intercept\n",
      "[[ 4.99529812 10.87683206  5.49467057 -3.99731364 -1.9565325  -1.52729656\n",
      "   1.34372176  6.13742095 -3.45208362 -4.00613029  0.21394317  0.79659638\n",
      "   2.76269247  3.68498188]]\n",
      "[55.33655053]\n"
     ]
    }
   ],
   "source": [
    "reg = linear_model.LinearRegression()\n",
    "reg.fit(x_math,y_math)\n",
    "\n",
    "print(\"math coefficients and intercept\")\n",
    "print(reg.coef_)\n",
    "print(reg.intercept_)"
   ]
  },
  {
   "cell_type": "code",
   "execution_count": 7,
   "id": "878fb847",
   "metadata": {},
   "outputs": [
    {
     "name": "stdout",
     "output_type": "stream",
     "text": [
      "writing coefficients and intercept \n",
      "[[-9.09646089  8.20275435 10.05871853 -2.94014298 -1.72002895 -0.52754741\n",
      "   2.99054795  2.19717139 -4.75739376 -5.24953248 -0.35563277  0.56480764\n",
      "   4.04970841  5.74804295]]\n",
      "[64.23080209]\n"
     ]
    }
   ],
   "source": [
    "reg = linear_model.LinearRegression()\n",
    "reg.fit(x_writing,y_writing)\n",
    "\n",
    "print(\"writing coefficients and intercept \") \n",
    "print(reg.coef_)\n",
    "print(reg.intercept_)"
   ]
  },
  {
   "cell_type": "code",
   "execution_count": 8,
   "id": "f4a40446",
   "metadata": {},
   "outputs": [
    {
     "name": "stdout",
     "output_type": "stream",
     "text": [
      "reading coefficients and intercept\n",
      "[[-7.07139241  7.24580234  7.36245449 -2.64380795 -1.31777578 -0.36991365\n",
      "   1.46179245  2.86970492 -3.40437832 -4.2557488  -0.63484231  0.64466738\n",
      "   2.80058463  4.84971742]]\n",
      "[65.91430674]\n"
     ]
    }
   ],
   "source": [
    "reg = linear_model.LinearRegression()\n",
    "reg.fit(x_reading,y_reading)\n",
    "\n",
    "print(\"reading coefficients and intercept\") \n",
    "print(reg.coef_)\n",
    "print(reg.intercept_)"
   ]
  }
 ],
 "metadata": {
  "kernelspec": {
   "display_name": "Python 3 (ipykernel)",
   "language": "python",
   "name": "python3"
  },
  "language_info": {
   "codemirror_mode": {
    "name": "ipython",
    "version": 3
   },
   "file_extension": ".py",
   "mimetype": "text/x-python",
   "name": "python",
   "nbconvert_exporter": "python",
   "pygments_lexer": "ipython3",
   "version": "3.9.7"
  }
 },
 "nbformat": 4,
 "nbformat_minor": 5
}
